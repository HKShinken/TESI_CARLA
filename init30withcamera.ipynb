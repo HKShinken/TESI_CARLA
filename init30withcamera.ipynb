{
 "cells": [
  {
   "cell_type": "code",
   "execution_count": null,
   "id": "3747c85b-c2f8-4857-98b4-51def0a9c4b0",
   "metadata": {},
   "outputs": [],
   "source": [
    "import carla\n",
    "import math\n",
    "import random\n",
    "import time\n",
    "\n",
    "#riferimento al tutorial\n",
    "#https://carla.readthedocs.io/en/latest/tuto_first_steps/\n",
    "#https://www.youtube.com/watch?v=pONr1R1dy88\n",
    "\n",
    "client = carla.Client('localhost', 2000)\n",
    "#accesso agli asset della simulazione\n",
    "world = client.get_world()\n",
    "\n",
    "#per cambiare mappa, richiede compilazione shader se non giò fatta\n",
    "#python3 config.py --map Town10HD #default\n",
    "#python3 config.py --map Town07 #piccola\n",
    "\n",
    "#serve  per creare oggetti nella simulazione tipo veicoli, caos, pedoni.\n",
    "bp_lib = world.get_blueprint_library()\n",
    "\n",
    "#punti per spawnare oggetti\n",
    "spawn_points = world.get_map().get_spawn_points();\n",
    "\n",
    "vehicle_bp = bp_lib.find('vehicle.lincoln.mkz_2020')\n",
    "#il try serve per trovare locazioni libere altrimenti fallirebbe\n",
    "vehicle = world.try_spawn_actor(vehicle_bp, random.choice(spawn_points))\n"
   ]
  },
  {
   "cell_type": "code",
   "execution_count": 6,
   "id": "62bf79ee-14ec-4dd4-952b-cc09dd06ca06",
   "metadata": {},
   "outputs": [],
   "source": [
    "camera.destroy()\n",
    "for v in world.get_actors().filter('*vehicle*'):\n",
    "    v.destroy()"
   ]
  },
  {
   "cell_type": "code",
   "execution_count": null,
   "id": "12aef9c3-0489-477c-852b-8ee1001f7c1b",
   "metadata": {},
   "outputs": [],
   "source": []
  }
 ],
 "metadata": {
  "kernelspec": {
   "display_name": "Python 3 (ipykernel)",
   "language": "python",
   "name": "python3"
  },
  "language_info": {
   "codemirror_mode": {
    "name": "ipython",
    "version": 3
   },
   "file_extension": ".py",
   "mimetype": "text/x-python",
   "name": "python",
   "nbconvert_exporter": "python",
   "pygments_lexer": "ipython3",
   "version": "3.10.11"
  }
 },
 "nbformat": 4,
 "nbformat_minor": 5
}
