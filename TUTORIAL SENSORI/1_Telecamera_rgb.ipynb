{
 "cells": [
  {
   "cell_type": "code",
   "execution_count": 2,
   "id": "6e6b6dec-c0f6-4496-9b75-d74bcba07183",
   "metadata": {},
   "outputs": [],
   "source": [
    "import carla \n",
    "import math \n",
    "import random \n",
    "import time \n",
    "import numpy as np\n",
    "import cv2\n",
    "\n",
    "# Connect the client and set up bp library and spawn points\n",
    "client = carla.Client('localhost', 2000) \n",
    "world = client.get_world()\n",
    "bp_lib = world.get_blueprint_library() \n",
    "spawn_points = world.get_map().get_spawn_points() "
   ]
  },
  {
   "cell_type": "code",
   "execution_count": 3,
   "id": "93c94c6a-4c3e-487b-8de9-823e440f3c43",
   "metadata": {},
   "outputs": [],
   "source": [
    "# istanzia macchina\n",
    "vehicle_bp = bp_lib.find('vehicle.lincoln.mkz_2020') \n",
    "vehicle = world.try_spawn_actor(vehicle_bp, random.choice(spawn_points))\n",
    "\n",
    "# sposta il pov dello spettatore alle spalle dell'auto\n",
    "spectator = world.get_spectator() \n",
    "transform = carla.Transform(vehicle.get_transform().transform(carla.Location(x=-4,z=2.5)),vehicle.get_transform().rotation) \n",
    "spectator.set_transform(transform)"
   ]
  },
  {
   "cell_type": "code",
   "execution_count": 4,
   "id": "ed6cf2b6-543d-4516-a0ff-04b6d9419210",
   "metadata": {},
   "outputs": [
    {
     "data": {
      "text/plain": [
       "True"
      ]
     },
     "execution_count": 4,
     "metadata": {},
     "output_type": "execute_result"
    }
   ],
   "source": [
    "#recupera la telecamera rgb dalla blueprint library\n",
    "camera_bp = bp_lib.find('sensor.camera.rgb') \n",
    "camera_init_trans = carla.Transform(carla.Location(z=2)) \n",
    "camera = world.spawn_actor(camera_bp, camera_init_trans, attach_to=vehicle)\n",
    "\n",
    "time.sleep(0.2)\n",
    "spectator.set_transform(camera.get_transform()) #sposta il pov dello spettatore a quello della telecamera\n",
    "camera.destroy()"
   ]
  },
  {
   "cell_type": "code",
   "execution_count": 9,
   "id": "31a8f3d7-46db-4a0a-9060-2f6cb2a4d117",
   "metadata": {},
   "outputs": [],
   "source": [
    "# istanzia camera rgb legandola al veicolo, la camera si sposterà insieme al veicolo conservando le coordinate di spawn rispetto al suolo\n",
    "camera_init_trans = carla.Transform(carla.Location(x=2.5, z=0.7))\n",
    "camera = world.spawn_actor(camera_bp, camera_init_trans, attach_to=vehicle)\n",
    "\n",
    "# callback per conversione e formattazione dei dati raw della telecamera in modo che siano fruibili esternamente                         \n",
    "def camera_callback(image, data_dict):\n",
    "    data_dict['image'] = np.reshape(np.copy(image.raw_data), (image.height, image.width, 4))\n",
    "\n",
    "# recupera le dimensioni dell'immagine dal sensore                       \n",
    "image_w = camera_bp.get_attribute(\"image_size_x\").as_int()\n",
    "image_h = camera_bp.get_attribute(\"image_size_y\").as_int()\n",
    "#inizializza una mappa vuota per memorizzare l'immagine mediante callback\n",
    "camera_data = {'image': np.zeros((image_h, image_w, 4))}\n",
    "\n",
    "# registrazione della telecamera\n",
    "camera.listen(lambda image: camera_callback(image, camera_data))\n",
    "\n",
    "vehicle.set_autopilot(True)\n"
   ]
  },
  {
   "cell_type": "code",
   "execution_count": 10,
   "id": "94c922b3-fa0d-4797-95e5-9d7077673280",
   "metadata": {},
   "outputs": [
    {
     "ename": "AttributeError",
     "evalue": "module 'cv2' has no attribute 'stop'",
     "output_type": "error",
     "traceback": [
      "\u001b[1;31m---------------------------------------------------------------------------\u001b[0m",
      "\u001b[1;31mAttributeError\u001b[0m                            Traceback (most recent call last)",
      "Cell \u001b[1;32mIn[10], line 18\u001b[0m\n\u001b[0;32m     16\u001b[0m \u001b[38;5;66;03m# Close OpenCV window when finished\u001b[39;00m\n\u001b[0;32m     17\u001b[0m cv2\u001b[38;5;241m.\u001b[39mdestroyAllWindows()\n\u001b[1;32m---> 18\u001b[0m \u001b[43mcv2\u001b[49m\u001b[38;5;241;43m.\u001b[39;49m\u001b[43mstop\u001b[49m()\n",
      "\u001b[1;31mAttributeError\u001b[0m: module 'cv2' has no attribute 'stop'"
     ]
    }
   ],
   "source": [
    "# finestra open cv per mvisualizazione real time del movimento della macchina\n",
    "cv2.namedWindow('RGB Camera', cv2.WINDOW_AUTOSIZE)\n",
    "cv2.imshow('RGB Camera', camera_data['image'])\n",
    "cv2.waitKey(1)\n",
    "\n",
    "# loop infinito per finchè l'utente non preme 'q', per mostrare la finestra opencv\n",
    "while True:\n",
    "    \n",
    "    # Imshow renders sensor data to display\n",
    "    cv2.imshow('RGB Camera', camera_data['image'])\n",
    "    \n",
    "    # Quit if user presses 'q'\n",
    "    if cv2.waitKey(1) == ord('q'):\n",
    "        break\n",
    "\n",
    "# Close OpenCV window when finished\n",
    "cv2.destroyAllWindows()\n",
    "cv2.stop()"
   ]
  },
  {
   "cell_type": "code",
   "execution_count": null,
   "id": "98dff473-ff9b-48ec-beb2-361074e544ab",
   "metadata": {},
   "outputs": [],
   "source": []
  }
 ],
 "metadata": {
  "kernelspec": {
   "display_name": "Python 3 (ipykernel)",
   "language": "python",
   "name": "python3"
  },
  "language_info": {
   "codemirror_mode": {
    "name": "ipython",
    "version": 3
   },
   "file_extension": ".py",
   "mimetype": "text/x-python",
   "name": "python",
   "nbconvert_exporter": "python",
   "pygments_lexer": "ipython3",
   "version": "3.10.11"
  }
 },
 "nbformat": 4,
 "nbformat_minor": 5
}
