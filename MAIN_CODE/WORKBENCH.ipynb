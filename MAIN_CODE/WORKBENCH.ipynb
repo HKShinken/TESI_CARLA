{
 "cells": [
  {
   "cell_type": "code",
   "execution_count": 10,
   "id": "1ea1835a-0f6f-408d-a0dd-ef9feaff8afe",
   "metadata": {},
   "outputs": [
    {
     "name": "stdout",
     "output_type": "stream",
     "text": [
      "Primo veicolo spawnato a (-76.66610717773438, 24.471010208129883, 0.5999999642372131) con yaw=0.0\n",
      "Secondo veicolo spawnato a (-71.66610717773438, 24.471010208129883, 0.5999999642372131) con yaw=0.0\n",
      "Veicoli distrutti.\n"
     ]
    }
   ],
   "source": [
    "import carla\n",
    "import math\n",
    "\n",
    "# Funzione per spawnare un veicolo\n",
    "def spawn_vehicle(world, x, y, z, yaw):\n",
    "    \"\"\"\n",
    "    Spawn un veicolo nelle coordinate specificate (x, y, z) con la rotazione yaw.\n",
    "    Restituisce l'oggetto del veicolo spawnato.\n",
    "    \"\"\"\n",
    "    # Crea la trasformazione (posizione e rotazione) per il veicolo\n",
    "    spawn_location = carla.Location(x=x, y=y, z=z)\n",
    "    spawn_rotation = carla.Rotation(pitch=0.0, yaw=yaw, roll=0.0)\n",
    "    spawn_transform = carla.Transform(spawn_location, spawn_rotation)\n",
    "    \n",
    "    # Ottieni il blueprint del veicolo\n",
    "    blueprint_library = world.get_blueprint_library()\n",
    "    vehicle_bp = blueprint_library.filter('vehicle.*')[0]  # Seleziona un veicolo casuale\n",
    "    \n",
    "    # Spawna il veicolo\n",
    "    vehicle = world.spawn_actor(vehicle_bp, spawn_transform)\n",
    "    return vehicle\n",
    "\n",
    "# Configurazione CARLA\n",
    "client = carla.Client(\"localhost\", 2000)\n",
    "client.set_timeout(10.0)\n",
    "\n",
    "# Ottieni il mondo e il blueprint del veicolo\n",
    "world = client.get_world()\n",
    "\n",
    "# Coordinate di spawn del primo veicolo\n",
    "x1, y1, z1 = -76.66610717773438, 24.471010208129883, 0.5999999642372131\n",
    "yaw1 = 0.0  # Rotazione yaw del primo veicolo (direzione)\n",
    "\n",
    "# Spawn del primo veicolo\n",
    "vehicle1 = spawn_vehicle(world, x1, y1, z1, yaw1)\n",
    "print(f\"Primo veicolo spawnato a ({x1}, {y1}, {z1}) con yaw={yaw1}\")\n",
    "\n",
    "# Calcola la posizione del secondo veicolo\n",
    "# Immaginiamo che il secondo veicolo debba essere di fronte al primo, a una distanza di 5 metri\n",
    "distance = 5  # Distanza tra i veicoli\n",
    "\n",
    "# Calcola la nuova posizione (di fronte al primo veicolo)\n",
    "x2 = x1 + distance * math.cos(math.radians(yaw1))\n",
    "y2 = y1 + distance * math.sin(math.radians(yaw1))\n",
    "z2 = z1  # Manteniamo la stessa altezza\n",
    "\n",
    "# Spawn del secondo veicolo\n",
    "vehicle2 = spawn_vehicle(world, x2, y2, z2, yaw1)\n",
    "print(f\"Secondo veicolo spawnato a ({x2}, {y2}, {z2}) con yaw={yaw1}\")\n",
    "\n",
    "# Attendere prima di distruggere i veicoli\n",
    "import time\n",
    "time.sleep(10)\n",
    "\n",
    "# Distruggi i veicoli\n",
    "vehicle1.destroy()\n",
    "vehicle2.destroy()\n",
    "print(\"Veicoli distrutti.\")\n"
   ]
  },
  {
   "cell_type": "code",
   "execution_count": null,
   "id": "9378b556-e92e-425f-a9ca-cadb435ee0da",
   "metadata": {},
   "outputs": [],
   "source": []
  }
 ],
 "metadata": {
  "kernelspec": {
   "display_name": "Python 3 (ipykernel)",
   "language": "python",
   "name": "python3"
  },
  "language_info": {
   "codemirror_mode": {
    "name": "ipython",
    "version": 3
   },
   "file_extension": ".py",
   "mimetype": "text/x-python",
   "name": "python",
   "nbconvert_exporter": "python",
   "pygments_lexer": "ipython3",
   "version": "3.10.11"
  }
 },
 "nbformat": 4,
 "nbformat_minor": 5
}
