{
 "cells": [
  {
   "cell_type": "code",
   "execution_count": 6,
   "id": "3b89c058-68b2-496c-8ce4-a7aa21e1196a",
   "metadata": {},
   "outputs": [
    {
     "name": "stderr",
     "output_type": "stream",
     "text": [
      "C:\\Users\\Luigi\\AppData\\Local\\Temp\\ipykernel_14452\\4243812235.py:4: FutureWarning: You are using `torch.load` with `weights_only=False` (the current default value), which uses the default pickle module implicitly. It is possible to construct malicious pickle data which will execute arbitrary code during unpickling (See https://github.com/pytorch/pytorch/blob/main/SECURITY.md#untrusted-models for more details). In a future release, the default value for `weights_only` will be flipped to `True`. This limits the functions that could be executed during unpickling. Arbitrary objects will no longer be allowed to be loaded via this mode unless they are explicitly allowlisted by the user via `torch.serialization.add_safe_globals`. We recommend you start setting `weights_only=True` for any use case where you don't have full control of the loaded file. Please open an issue on GitHub for any issues related to this experimental feature.\n",
      "  model = torch.load('F:/CARLA_BRAKE/SIM_DATA/PHASE_2/best/chkpt_96.pt')\n"
     ]
    }
   ],
   "source": [
    "import torch\n",
    "\n",
    "try:\n",
    "    model = torch.load('F:/CARLA_BRAKE/SIM_DATA/PHASE_2/best/chkpt_96.pt')\n",
    "except PermissionError as e:\n",
    "    print(f\"Errore di permesso: {e}\")\n",
    "except FileNotFoundError as e:\n",
    "    print(f\"File non trovato: {e}\")\n",
    "except Exception as e:\n",
    "    print(f\"Errore sconosciuto: {e}\")"
   ]
  },
  {
   "cell_type": "code",
   "execution_count": null,
   "id": "b2101f0e-d608-499d-8aa3-e9c2492e6b8f",
   "metadata": {},
   "outputs": [],
   "source": []
  }
 ],
 "metadata": {
  "kernelspec": {
   "display_name": "Python 3 (ipykernel)",
   "language": "python",
   "name": "python3"
  },
  "language_info": {
   "codemirror_mode": {
    "name": "ipython",
    "version": 3
   },
   "file_extension": ".py",
   "mimetype": "text/x-python",
   "name": "python",
   "nbconvert_exporter": "python",
   "pygments_lexer": "ipython3",
   "version": "3.10.11"
  }
 },
 "nbformat": 4,
 "nbformat_minor": 5
}
