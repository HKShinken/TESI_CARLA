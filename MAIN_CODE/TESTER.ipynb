{
 "cells": [
  {
   "cell_type": "code",
   "execution_count": 1,
   "id": "1ea1835a-0f6f-408d-a0dd-ef9feaff8afe",
   "metadata": {},
   "outputs": [
    {
     "name": "stdout",
     "output_type": "stream",
     "text": [
      "current time: 2024-12-16 19:20:24.163863\n",
      "timestamp: 1734373224.163863\n"
     ]
    }
   ],
   "source": [
    "import tkinter as tk\n",
    "from tkinter import filedialog\n",
    "\n",
    "# using datetime module\n",
    "import datetime;\n",
    "\n",
    "# ct stores current time\n",
    "ct = datetime.datetime.now()\n",
    "print(f\"current time: {ct}\")\n",
    "\n",
    "# ts store timestamp of current time\n",
    "ts = ct.timestamp()\n",
    "print(f\"timestamp: {ts}\")\n",
    "\n",
    "def show_save_window():\n",
    "    save_win = tk.Toplevel()\n",
    "    save_win.title(\"Messaggio\")\n",
    "\n",
    "    messaggio = tk.Label(save_win, text=\"Save current simulation on file 'sim_data.log'?\")\n",
    "    messaggio.pack(pady=10)\n",
    "\n",
    "    def save_sim_data():\n",
    "        print(\"Pippo\")\n",
    "        save_win.destroy()\n",
    "\n",
    "    def skip():\n",
    "        save_win.destroy()\n",
    "\n",
    "    # Aggiungi i pulsanti\n",
    "    save_button = tk.Button(save_win, text=\"Yes\", command=stampa_pippo)\n",
    "    save_button.pack(side=tk.LEFT, padx=10, pady=10)\n",
    "\n",
    "    skip_button = tk.Button(save_win, text=\"No\", command=skip)\n",
    "    skip_button.pack(side=tk.RIGHT, padx=10, pady=10)\n",
    "\n",
    "def upload_file():\n",
    "    # Apri il file dialog per scegliere un file\n",
    "    file_path = filedialog.askopenfilename(title=\"Seleziona un file\")\n",
    "    if file_path:\n",
    "        try:\n",
    "            # Leggi il file e stampalo riga per riga\n",
    "            with open(file_path, 'r') as file:\n",
    "                for line in file:\n",
    "                    print(line.strip())\n",
    "        except Exception as e:\n",
    "            print(f\"Errore durante la lettura del file: {e}\")\n",
    "\n",
    "# Crea la finestra principale\n",
    "#root = tk.Tk()\n",
    "#root.title(\"Esempio di Tkinter\")\n",
    "\n",
    "# Pulsante per mostrare il messaggio\n",
    "#bottone_mostra = tk.Button(root, text=\"Mostra messaggio\", command=mostra_messaggio)\n",
    "#bottone_mostra.pack(pady=20)\n",
    "\n",
    "# Pulsante per caricare un file\n",
    "#bottone_upload = tk.Button(root, text=\"Upload File\", command=upload_file)\n",
    "#bottone_upload.pack(pady=20)\n",
    "\n",
    "# Avvia il loop principale dell'interfaccia grafica\n",
    "#root.mainloop()\n",
    "\n",
    "\n",
    "scenarios = scen.generate_scenarios_from_file(\"sim_data_all.log\")\n",
    "\n",
    "\n"
   ]
  },
  {
   "cell_type": "code",
   "execution_count": null,
   "id": "9378b556-e92e-425f-a9ca-cadb435ee0da",
   "metadata": {},
   "outputs": [],
   "source": []
  }
 ],
 "metadata": {
  "kernelspec": {
   "display_name": "Python 3 (ipykernel)",
   "language": "python",
   "name": "python3"
  },
  "language_info": {
   "codemirror_mode": {
    "name": "ipython",
    "version": 3
   },
   "file_extension": ".py",
   "mimetype": "text/x-python",
   "name": "python",
   "nbconvert_exporter": "python",
   "pygments_lexer": "ipython3",
   "version": "3.10.11"
  }
 },
 "nbformat": 4,
 "nbformat_minor": 5
}
