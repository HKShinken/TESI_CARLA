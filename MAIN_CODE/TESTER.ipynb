{
 "cells": [
  {
   "cell_type": "code",
   "execution_count": 4,
   "id": "1ea1835a-0f6f-408d-a0dd-ef9feaff8afe",
   "metadata": {},
   "outputs": [],
   "source": [
    "import carla\n",
    "\n",
    "client = carla.Client('localhost', 2000)\n",
    "world = client.get_world()\n",
    "blueprint_library = world.get_blueprint_library()\n",
    "\n",
    "# Scegli un modello di veicolo\n",
    "vehicle_bp = blueprint_library.find('vehicle.lincoln.mkz_2020')\n",
    "\n",
    "x = -45.2\n",
    "y = -36.5\n",
    "z =  0.6\n",
    "pitch = 0\n",
    "yaw = 180\n",
    "roll = 0\n",
    "#Init transform attribute for spawn location\n",
    "spawn_point = carla.Transform(\n",
    "    carla.Location(x=x, y=y, z=z),\n",
    "    carla.Rotation(pitch=pitch, yaw=yaw, roll=roll)\n",
    ")\n",
    "\n",
    "#Spawns vehicle\n",
    "vehicle = world.spawn_actor(vehicle_bp, spawn_point)\n",
    "\n",
    "# Set spectator visual above vehicle\n",
    "spectator = world.get_spectator()\n",
    "spectator_transform = carla.Transform(\n",
    "    carla.Location(x=x, y=y, z=z + 30),  # 30 meters above car\n",
    "    carla.Rotation(pitch=-90)           # visual direction\n",
    ")\n",
    "spectator.set_transform(spectator_transform)\n"
   ]
  },
  {
   "cell_type": "code",
   "execution_count": null,
   "id": "9378b556-e92e-425f-a9ca-cadb435ee0da",
   "metadata": {},
   "outputs": [],
   "source": []
  },
  {
   "cell_type": "code",
   "execution_count": null,
   "id": "459d3186-167d-4a8f-9aa9-46139874c261",
   "metadata": {},
   "outputs": [],
   "source": []
  }
 ],
 "metadata": {
  "kernelspec": {
   "display_name": "Python 3 (ipykernel)",
   "language": "python",
   "name": "python3"
  },
  "language_info": {
   "codemirror_mode": {
    "name": "ipython",
    "version": 3
   },
   "file_extension": ".py",
   "mimetype": "text/x-python",
   "name": "python",
   "nbconvert_exporter": "python",
   "pygments_lexer": "ipython3",
   "version": "3.10.11"
  }
 },
 "nbformat": 4,
 "nbformat_minor": 5
}
