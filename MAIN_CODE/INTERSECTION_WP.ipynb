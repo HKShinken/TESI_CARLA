{
 "cells": [
  {
   "cell_type": "code",
   "execution_count": 22,
   "id": "bb475d3b-2870-4a7b-93e9-d9d223342ae0",
   "metadata": {},
   "outputs": [
    {
     "name": "stdout",
     "output_type": "stream",
     "text": [
      "indice 0: Waypoint(Transform(Location(x=-41.573959, y=82.625427, z=0.000000), Rotation(pitch=0.000000, yaw=-90.161232, roll=0.000000))) - Waypoint(Transform(Location(x=-27.022135, y=69.714012, z=0.000000), Rotation(pitch=0.000000, yaw=-359.926727, roll=0.000000)))\n",
      "indice 1: Waypoint(Transform(Location(x=-48.660942, y=51.725246, z=0.000000), Rotation(pitch=360.000000, yaw=89.838768, roll=0.000000))) - Waypoint(Transform(Location(x=-48.573933, y=82.645119, z=0.000000), Rotation(pitch=360.000000, yaw=89.838768, roll=0.000000)))\n",
      "indice 2: Waypoint(Transform(Location(x=-52.160931, y=51.735096, z=0.000000), Rotation(pitch=360.000000, yaw=89.838768, roll=0.000000))) - Waypoint(Transform(Location(x=-52.073921, y=82.654968, z=0.000000), Rotation(pitch=360.000000, yaw=89.838768, roll=0.000000)))\n",
      "indice 3: Waypoint(Transform(Location(x=-41.573959, y=82.625427, z=0.000000), Rotation(pitch=0.000000, yaw=-90.161232, roll=0.000000))) - Waypoint(Transform(Location(x=-41.660969, y=51.705547, z=0.000000), Rotation(pitch=0.000000, yaw=-90.161232, roll=0.000000)))\n",
      "indice 4: Waypoint(Transform(Location(x=-45.073948, y=82.635277, z=0.000000), Rotation(pitch=0.000000, yaw=-90.161232, roll=0.000000))) - Waypoint(Transform(Location(x=-45.160957, y=51.715397, z=0.000000), Rotation(pitch=0.000000, yaw=-90.161232, roll=0.000000)))\n",
      "indice 5: Waypoint(Transform(Location(x=-27.017662, y=66.214005, z=0.000000), Rotation(pitch=0.000000, yaw=-179.926727, roll=0.000000))) - Waypoint(Transform(Location(x=-41.660973, y=51.705544, z=0.000000), Rotation(pitch=0.000000, yaw=-90.161232, roll=0.000000)))\n"
     ]
    }
   ],
   "source": [
    "import carla\n",
    "import random\n",
    "\n",
    "def draw_waypoint_pairs(world, waypoint_pairs):\n",
    "    for index, (wp1, wp2) in enumerate(waypoint_pairs):\n",
    "        # Calcola il numero progressivo della coppia\n",
    "        pair_number = index + 1\n",
    "\n",
    "        print(f\"indice {index}: {wp1} - {wp2}\")\n",
    "\n",
    "        # Disegna una 'X' su wp1 con il numero progressivo\n",
    "        world.debug.draw_string(wp1.transform.location, f\"X {pair_number}\", \n",
    "                                draw_shadow=True, \n",
    "                                color=carla.Color(r=0, g=255, b=0), \n",
    "                                life_time=60.0, \n",
    "                                persistent_lines=True)\n",
    "\n",
    "        # Disegna una 'X' su wp2 con lo stesso numero progressivo\n",
    "        world.debug.draw_string(wp2.transform.location, f\"X {pair_number}\", \n",
    "                                draw_shadow=True, \n",
    "                                color=carla.Color(r=255, g=0, b=0), \n",
    "                                life_time=60.0, \n",
    "                                persistent_lines=True)\n",
    "\n",
    "# Connessione a Carla\n",
    "client = carla.Client('localhost', 2000)\n",
    "client.set_timeout(10.0)\n",
    "world = client.get_world()\n",
    "map = world.get_map()\n",
    "\n",
    "# Trova un incrocio casuale\n",
    "spawn_points = map.get_spawn_points()\n",
    "random_point = random.choice(spawn_points)\n",
    "waypoint = map.get_waypoint(random_point.location)\n",
    "\n",
    "# Cerca un incrocio a caso nella mappa a partire da un pnto di spawn a caso\n",
    "while waypoint.get_junction() is None:\n",
    "    random_point = random.choice(spawn_points)\n",
    "    waypoint = map.get_waypoint(random_point.location)\n",
    "\n",
    "#il problema ritorna le coppie di wp dei segmenti di strada coinvolti nell'incrocio\n",
    "#ovviamente alcuni estremi di coppia possono essere in comune dato che da un punto puoi andare a destra o doritto\n",
    "#inoltre non è detto che questi waypoints siano punti di spawn.. quindi bisogna pure capire deventualmente dove far uscire l'auto\n",
    "draw_waypoint_pairs(world, waypoint.get_junction().get_waypoints(carla.LaneType.Driving))\n",
    "\n",
    "# Posiziona la telecamera del simulatore sopra l'incrocio\n",
    "spectator = world.get_spectator()\n",
    "camera_location = carla.Location(x=waypoint.transform.location.x, y=waypoint.transform.location.y, z=50)\n",
    "camera_rotation = carla.Rotation(pitch=-90)  # Orientamento verso il basso\n",
    "spectator.set_transform(carla.Transform(camera_location, camera_rotation))\n",
    "\n"
   ]
  },
  {
   "cell_type": "code",
   "execution_count": null,
   "id": "a96f2359-f04a-4075-95ba-0a623a9452c1",
   "metadata": {},
   "outputs": [],
   "source": []
  },
  {
   "cell_type": "code",
   "execution_count": null,
   "id": "917dc8aa-f316-4318-bb61-131e8126e66d",
   "metadata": {},
   "outputs": [],
   "source": []
  }
 ],
 "metadata": {
  "kernelspec": {
   "display_name": "Python 3 (ipykernel)",
   "language": "python",
   "name": "python3"
  },
  "language_info": {
   "codemirror_mode": {
    "name": "ipython",
    "version": 3
   },
   "file_extension": ".py",
   "mimetype": "text/x-python",
   "name": "python",
   "nbconvert_exporter": "python",
   "pygments_lexer": "ipython3",
   "version": "3.10.11"
  }
 },
 "nbformat": 4,
 "nbformat_minor": 5
}
