{
 "cells": [
  {
   "cell_type": "code",
   "execution_count": 1,
   "id": "cffab1fa-84ba-4f56-883a-f3c796694d0b",
   "metadata": {},
   "outputs": [
    {
     "name": "stdout",
     "output_type": "stream",
     "text": [
      "Mappa caricata: Town01\n"
     ]
    }
   ],
   "source": [
    "import carla\n",
    "\n",
    "# Connessione al server\n",
    "client = carla.Client('localhost', 2000)\n",
    "client.set_timeout(10.0)\n",
    "\n",
    "# Carica Town01\n",
    "world = client.load_world('Town01')\n",
    "print(\"Mappa caricata: Town01\")"
   ]
  },
  {
   "cell_type": "code",
   "execution_count": null,
   "id": "436948b9-27a8-4823-8f55-d93f74835eef",
   "metadata": {},
   "outputs": [],
   "source": []
  }
 ],
 "metadata": {
  "kernelspec": {
   "display_name": "Python 3 (ipykernel)",
   "language": "python",
   "name": "python3"
  },
  "language_info": {
   "codemirror_mode": {
    "name": "ipython",
    "version": 3
   },
   "file_extension": ".py",
   "mimetype": "text/x-python",
   "name": "python",
   "nbconvert_exporter": "python",
   "pygments_lexer": "ipython3",
   "version": "3.10.11"
  }
 },
 "nbformat": 4,
 "nbformat_minor": 5
}
