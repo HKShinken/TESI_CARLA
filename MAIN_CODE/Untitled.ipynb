{
 "cells": [
  {
   "cell_type": "code",
   "execution_count": 1,
   "id": "b4925d73-8598-4bc6-90db-ea0aca3b229c",
   "metadata": {},
   "outputs": [
    {
     "name": "stdout",
     "output_type": "stream",
     "text": [
      "True\n",
      "1\n",
      "NVIDIA GeForce GTX 1060 6GB\n"
     ]
    }
   ],
   "source": [
    "import torch\n",
    "print(torch.cuda.is_available())  # Dovrebbe restituire True\n",
    "print(torch.cuda.device_count())  # Numero di GPU disponibili\n",
    "print(torch.cuda.get_device_name(0))  # Nome della GPU"
   ]
  },
  {
   "cell_type": "code",
   "execution_count": null,
   "id": "9f39e536-21c9-4b85-b6ae-76fbfa2917b8",
   "metadata": {},
   "outputs": [],
   "source": []
  }
 ],
 "metadata": {
  "kernelspec": {
   "display_name": "Python 3 (ipykernel)",
   "language": "python",
   "name": "python3"
  },
  "language_info": {
   "codemirror_mode": {
    "name": "ipython",
    "version": 3
   },
   "file_extension": ".py",
   "mimetype": "text/x-python",
   "name": "python",
   "nbconvert_exporter": "python",
   "pygments_lexer": "ipython3",
   "version": "3.10.11"
  }
 },
 "nbformat": 4,
 "nbformat_minor": 5
}
