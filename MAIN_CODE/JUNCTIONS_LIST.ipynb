{
 "cells": [
  {
   "cell_type": "code",
   "execution_count": 4,
   "id": "51b04941-bdb9-4082-9c8b-d7f05cda9201",
   "metadata": {},
   "outputs": [
    {
     "name": "stdout",
     "output_type": "stream",
     "text": [
      "Numero di junctions uniche trovate: 9\n",
      "Trovato spawn\n"
     ]
    }
   ],
   "source": [
    "from importlib import reload\n",
    "import carla\n",
    "import spawn_behind_wp as spb\n",
    "reload(spb) #per refreshare modifiche import\n",
    "\n",
    "# Connetti al simulatore\n",
    "client = carla.Client('localhost', 2000)\n",
    "client.set_timeout(5.0)\n",
    "\n",
    "# Ottieni la mappa\n",
    "world = client.get_world()\n",
    "map = world.get_map()\n",
    "\n",
    "# Ottieni tutti i waypoints con una distanza definita (ad esempio, ogni 2 metri)\n",
    "waypoints = map.generate_waypoints(2.0)\n",
    "\n",
    "# Crea un insieme per raccogliere gli ID unici di ogni junction\n",
    "unique_junctions = []\n",
    "\n",
    "# Scansiona i waypoints e aggiungi solo gli ID unici delle junctions\n",
    "for waypoint in waypoints:\n",
    "    if waypoint.is_junction:\n",
    "        junction = waypoint.get_junction()\n",
    "        if not(any(u[0] == junction.id for u in unique_junctions)):\n",
    "            unique_junctions.append( (junction.id, junction))\n",
    "\n",
    "# Stampa il numero di junctions uniche trovate (9 in town 10)\n",
    "print(f\"Numero di junctions uniche trovate: {len(unique_junctions)}\")\n",
    "\n",
    "#for id, jun in unique_junctions:\n",
    "#    print(f\"id: {id} - {jun}\")\n",
    "#la seconda cella enumera gli incroci, la penultima le coppie e l'ultima il primo elemento di ciascuna coppia\n",
    "wp1 = unique_junctions[0][1].get_waypoints(carla.LaneType.Driving)[4][0]\n",
    "sp1 = spb.get_spawn_behind_wp(world, wp1, distance=10, focus=1)\n"
   ]
  },
  {
   "cell_type": "code",
   "execution_count": null,
   "id": "123d7b83-0ec3-4b2c-bf65-48e641ed1720",
   "metadata": {},
   "outputs": [],
   "source": []
  }
 ],
 "metadata": {
  "kernelspec": {
   "display_name": "Python 3 (ipykernel)",
   "language": "python",
   "name": "python3"
  },
  "language_info": {
   "codemirror_mode": {
    "name": "ipython",
    "version": 3
   },
   "file_extension": ".py",
   "mimetype": "text/x-python",
   "name": "python",
   "nbconvert_exporter": "python",
   "pygments_lexer": "ipython3",
   "version": "3.10.11"
  }
 },
 "nbformat": 4,
 "nbformat_minor": 5
}
