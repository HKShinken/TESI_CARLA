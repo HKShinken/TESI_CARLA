{
 "cells": [
  {
   "cell_type": "code",
   "execution_count": 15,
   "id": "2591ed01-1425-475f-926c-4ac86db25a79",
   "metadata": {},
   "outputs": [],
   "source": [
    "#FILE UTILITARIO PER PULIZIA SIMULATORE FORZATA IN CASO DI BLOCCHI\n",
    "import carla\n",
    "\n",
    "# CONNESSIONE AL SIMULATORE\n",
    "client = carla.Client('localhost', 2000)\n",
    "\n",
    "#RECUPERA ITEM DEL SIMULATORE, ES.: MACCHINE\n",
    "world = client.get_world()\n",
    "\n",
    "for actor in world.get_actors().filter('*vehicle*'):\n",
    "    actor.destroy()\n",
    "for actor in world.get_actors().filter('*sensor*'):\n",
    "    actor.destroy()"
   ]
  },
  {
   "cell_type": "code",
   "execution_count": null,
   "id": "b008ecae-89c7-446a-ab72-9915c9e69e3f",
   "metadata": {},
   "outputs": [],
   "source": []
  },
  {
   "cell_type": "code",
   "execution_count": null,
   "id": "7eca2e88-d08a-4332-b064-790c6aec5d45",
   "metadata": {},
   "outputs": [],
   "source": []
  }
 ],
 "metadata": {
  "kernelspec": {
   "display_name": "Python 3 (ipykernel)",
   "language": "python",
   "name": "python3"
  },
  "language_info": {
   "codemirror_mode": {
    "name": "ipython",
    "version": 3
   },
   "file_extension": ".py",
   "mimetype": "text/x-python",
   "name": "python",
   "nbconvert_exporter": "python",
   "pygments_lexer": "ipython3",
   "version": "3.10.11"
  }
 },
 "nbformat": 4,
 "nbformat_minor": 5
}
