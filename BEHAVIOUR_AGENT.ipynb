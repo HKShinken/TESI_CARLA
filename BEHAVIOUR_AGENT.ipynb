{
 "cells": [
  {
   "cell_type": "code",
   "execution_count": 1,
   "metadata": {},
   "outputs": [
    {
     "name": "stdout",
     "output_type": "stream",
     "text": [
      "The target has been reached, stopping the simulation\n"
     ]
    },
    {
     "data": {
      "text/plain": [
       "True"
      ]
     },
     "execution_count": 1,
     "metadata": {},
     "output_type": "execute_result"
    }
   ],
   "source": [
    "# https://carla.readthedocs.io/en/0.9.12/adv_agents/#:~:text=set_destination(end_location%2C%20start_location%3DNone,use%20the%20current%20agent%20location\n",
    "#BEHAVIOUR AGENT CON SETTAGGIO DESTINAZIONE\n",
    "\n",
    "#all imports\n",
    "import carla #the sim library itself\n",
    "import cv2 #to work with images from cameras\n",
    "import time # towork with images from cameras\n",
    "import numpy as np #in this example to change image representation - re-shaping\n",
    "import math\n",
    "import random\n",
    "import sys\n",
    "\n",
    "from agents.navigation.global_route_planner import GlobalRoutePlanner\n",
    "from agents.navigation.behavior_agent import BehaviorAgent\n",
    "\n",
    "#colora di bianco il percorso dato in input\n",
    "def draw_entire_route(route, duration):\n",
    "    for waypoint in route:\n",
    "        world.debug.draw_string(waypoint[0].transform.location, '^', draw_shadow=True, color=carla.Color(r=0, g=0, b=255), life_time=duration)\n",
    "\n",
    "def erase_route(route, duration):\n",
    "    for waypoint in route:\n",
    "        world.debug.draw_string(waypoint[0].transform.location, '^', draw_shadow=True, color=carla.Color(r=255, g=255, b=255), life_time=duration)\n",
    "\n",
    "def draw_symbol(wp, duration, symbol, r, g, b):\n",
    "    world.debug.draw_string(wp.transform.location, symbol, draw_shadow=False, color=carla.Color(r, g, b), life_time=duration)\n",
    "\n",
    "\n",
    "#DISEGNA DISEGNA 10 SIMBOLI DI FRONTE IL VEICOLO LUNGO IL PERCORSO\n",
    "def draw_route(wp, route,seconds=3.0): \n",
    "    if len(route)-wp <25: # A 25 PUNTI DALLA FINE COLORA I WP DI ROSSO\n",
    "        draw_colour = carla.Color(r=255, g=0, b=0)\n",
    "    else:\n",
    "        draw_colour = carla.Color(r=0, g=255, b=0) #ALTRIMENTI DI VERDE\n",
    "    for i in range(10): #STAMPA 10 SIMBOLI DI FRONTE AL VEICOLO IN BASE AL COLORE PRECEDEMENTE SCELTO\n",
    "        if wp+i<len(route)-2:\n",
    "            world.debug.draw_string(route[wp+i][0].transform.location, '^', draw_shadow=False, color=draw_colour, life_time=seconds, persistent_lines=True)\n",
    "\n",
    "# CONNESSIONE AL SIMULATORE\n",
    "client = carla.Client('localhost', 2000)\n",
    "\n",
    "#RECUPERA ITEM DEL SIMULATORE, ES.: MACCHINE\n",
    "world = client.get_world()\n",
    "bp_lib = world.get_blueprint_library() \n",
    "\n",
    "#TUTTI I PUNTI DI SPAWN DELLA MAPPA\n",
    "spawn_points = world.get_map().get_spawn_points()\n",
    "\n",
    "# ISTANZIA MACCHINA IN UN PUNTO A CASO DELLA MAPPA\n",
    "vehicle_bp = bp_lib.find('vehicle.lincoln.mkz_2020') \n",
    "start_spawn = random.choice(spawn_points)\n",
    "vehicle = world.try_spawn_actor(vehicle_bp, start_spawn)\n",
    "\n",
    "# sposta il pov dello spettatore alle spalle dell'auto\n",
    "spectator = world.get_spectator() \n",
    "transform = carla.Transform(vehicle.get_transform().transform(carla.Location(x=-4,z=2.5)),vehicle.get_transform().rotation) \n",
    "spectator.set_transform(transform)\n",
    "\n",
    "#RECUPERO I WAYPOINTS CORRISPONDENTI RISPETTIVAMENTE AI PUNTO DI SPAWN DEL VEICOLO E DI DESTINAZIONE DELL'AGENTE\n",
    "start_location = vehicle.get_location()\n",
    "start_waypoint = world.get_map().get_waypoint(start_location)\n",
    "\n",
    "#PUNTO A CASO DALLA MAPPA COME DESTINAZIONE, SCEGLIE DI DEFAULT IL PERCORSO PIU' BREVE\n",
    "dest_location = random.choice(spawn_points).location\n",
    "dest_waypoint = world.get_map().get_waypoint(dest_location)\n",
    "\n",
    "#L' AGENTE BEHAVIOUR REAGISCE A SEMAFORI E SEGNALI DI STOP, EVITA PEDONI, SEGUE LE MACCHINE \n",
    "#2 POSSIBILI PROFILI AL MOMENTO, NORMAL, AGGRESSIVE -> https://carla.readthedocs.io/en/0.9.12/adv_agents/#behavior-types\n",
    "agent = BehaviorAgent(vehicle, behavior='aggressive')\n",
    "\n",
    "#RECUPERA IL PERCORSO CHE SEGUIRA' L'AGENTE IN UNA LISTA DI WAYPOINTS\n",
    "route = agent.trace_route(start_waypoint, dest_waypoint)\n",
    "draw_entire_route(route, 120)\n",
    "draw_symbol(start_waypoint, 120, '<<<<<!!!!!-START-!!!!!>>>>>', 0, 255, 0)\n",
    "draw_symbol(dest_waypoint, 120, '<<<<<!!!!!-END-!!!!!>>>>>', 255, 0, 0)\n",
    "\n",
    "#DESTINAZIONE AGENT\n",
    "agent.set_destination(dest_location)\n",
    "\n",
    "#ATTIVA L'AGENT FINCHE' NON RAGGIUNGE IL PUNTO DI DESTINAZIONE\n",
    "while True:\n",
    "    if agent.done():\n",
    "        print(\"The target has been reached, stopping the simulation\")\n",
    "        #COLORA DI BIANCO I SIMBOLI DEL PERCORSO COMPLETATO\n",
    "        erase_route(route, 60)\n",
    "        draw_symbol(start_waypoint, 60, '<<<<<!!!!!-START-!!!!!>>>>>', 255, 255, 255)\n",
    "        draw_symbol(dest_waypoint, 60, '<<<<<!!!!!-END-!!!!!>>>>>', 255, 255, 255)\n",
    "        break\n",
    "        \n",
    "    vehicle.apply_control(agent.run_step())\n",
    "    curr_wp = world.get_map().get_waypoint(vehicle.get_location())\n",
    "    draw_symbol(curr_wp, 0.01, '!!!CAR!!!', 255, 255, 255) \n",
    "\n",
    "vehicle.destroy()\n"
   ]
  },
  {
   "cell_type": "code",
   "execution_count": null,
   "metadata": {},
   "outputs": [],
   "source": []
  }
 ],
 "metadata": {
  "kernelspec": {
   "display_name": "Python 3 (ipykernel)",
   "language": "python",
   "name": "python3"
  },
  "language_info": {
   "codemirror_mode": {
    "name": "ipython",
    "version": 3
   },
   "file_extension": ".py",
   "mimetype": "text/x-python",
   "name": "python",
   "nbconvert_exporter": "python",
   "pygments_lexer": "ipython3",
   "version": "3.10.11"
  }
 },
 "nbformat": 4,
 "nbformat_minor": 4
}
