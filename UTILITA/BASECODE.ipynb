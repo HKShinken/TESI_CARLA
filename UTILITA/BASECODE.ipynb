{
 "cells": [
  {
   "cell_type": "code",
   "execution_count": 4,
   "id": "3747c85b-c2f8-4857-98b4-51def0a9c4b0",
   "metadata": {},
   "outputs": [
    {
     "name": "stdout",
     "output_type": "stream",
     "text": [
      "Semaforo 1: Posizione (-119.23003387451172, 5.093152046203613)\n",
      "Green\n",
      "Semaforo 2: Posizione (115.4498291015625, 35.044944763183594)\n",
      "Red\n",
      "Semaforo 3: Posizione (-46.17157745361328, -73.5566177368164)\n",
      "Green\n",
      "Semaforo 4: Posizione (-34.449153900146484, -51.02048873901367)\n",
      "Red\n",
      "Semaforo 5: Posizione (114.45188903808594, 21.196002960205078)\n",
      "Red\n",
      "Semaforo 6: Posizione (89.79188537597656, 20.92214584350586)\n",
      "Green\n",
      "Semaforo 7: Posizione (-31.93084144592285, 20.30195426940918)\n",
      "Green\n",
      "Semaforo 8: Posizione (-64.26419067382812, 7.063309192657471)\n",
      "Red\n",
      "Semaforo 9: Posizione (-62.35206985473633, 20.196908950805664)\n",
      "Red\n",
      "Semaforo 10: Posizione (-94.92822265625, 20.334821701049805)\n",
      "Red\n",
      "Semaforo 11: Posizione (-59.24224853515625, -51.49837112426758)\n",
      "Red\n",
      "Semaforo 12: Posizione (-119.2381820678711, 19.00446891784668)\n",
      "Red\n",
      "Semaforo 13: Posizione (-58.71535873413086, 145.82456970214844)\n",
      "Green\n",
      "Semaforo 14: Posizione (-62.09930419921875, 123.75550842285156)\n",
      "Red\n",
      "Semaforo 15: Posizione (-31.636356353759766, 33.58928680419922)\n",
      "Red\n"
     ]
    }
   ],
   "source": [
    "import carla\n",
    "import math\n",
    "import random\n",
    "import time\n",
    "\n",
    "def detect_traffic_lights(world):\n",
    "    # Otteniamo tutti gli attori della mappa\n",
    "    actors_list = world.get_actors()\n",
    "    \n",
    "    # Filtriamo solo gli attori che sono semafori\n",
    "    traffic_lights = [actor for actor in actors_list if 'traffic_light' in actor.type_id]\n",
    "    \n",
    "    return traffic_lights\n",
    "    \n",
    "#riferimento al tutorial\n",
    "#https://carla.readthedocs.io/en/latest/tuto_first_steps/\n",
    "#https://www.youtube.com/watch?v=pONr1R1dy88\n",
    "    \n",
    "\n",
    "# Connettiti al server CARLA\n",
    "client = carla.Client('localhost', 2000)\n",
    "#client.set_timeout(2.0)\n",
    "\n",
    "# Ottieni il world\n",
    "world = client.get_world()\n",
    "\n",
    "# Rileva i semafori nella mappa\n",
    "traffic_lights = detect_traffic_lights(world)\n",
    "\n",
    "# Stampa le informazioni sui semafori trovati\n",
    "for idx, traffic_light in enumerate(traffic_lights):\n",
    "    print(f\"Semaforo {idx+1}: Posizione ({traffic_light.get_location().x}, {traffic_light.get_location().y})\")\n",
    "    print(traffic_light.get_state())\n",
    "\n",
    "#PER CAMBIARE MAPPA\n",
    "#world = client.load_world('Town05')\n",
    "\n",
    "#per cambiare mappa, richiede compilazione shader se non giò fatta\n",
    "#python3 config.py --map Town10HD #default\n",
    "#python3 config.py --map Town07 #piccola\n",
    "#python3 config.py --map Town12 #per esempio base leaderboard \n",
    "\n",
    "#serve  per creare oggetti nella simulazione tipo veicoli, caos, pedoni.\n",
    "#bp_lib = world.get_blueprint_library()\n",
    "\n",
    "#punti per spawnare oggetti\n",
    "#spawn_points = world.get_map().get_spawn_points();\n",
    "\n",
    "#vehicle_bp = bp_lib.find('vehicle.lincoln.mkz_2020')\n",
    "#il try serve per trovare locazioni libere altrimenti fallirebbe\n",
    "#vehicle = world.try_spawn_actor(vehicle_bp, random.choice(spawn_points))\n"
   ]
  },
  {
   "cell_type": "code",
   "execution_count": 6,
   "id": "62bf79ee-14ec-4dd4-952b-cc09dd06ca06",
   "metadata": {},
   "outputs": [],
   "source": [
    "camera.destroy()\n",
    "for v in world.get_actors().filter('*vehicle*'):\n",
    "    v.destroy()"
   ]
  },
  {
   "cell_type": "code",
   "execution_count": null,
   "id": "12aef9c3-0489-477c-852b-8ee1001f7c1b",
   "metadata": {},
   "outputs": [],
   "source": []
  }
 ],
 "metadata": {
  "kernelspec": {
   "display_name": "Python 3 (ipykernel)",
   "language": "python",
   "name": "python3"
  },
  "language_info": {
   "codemirror_mode": {
    "name": "ipython",
    "version": 3
   },
   "file_extension": ".py",
   "mimetype": "text/x-python",
   "name": "python",
   "nbconvert_exporter": "python",
   "pygments_lexer": "ipython3",
   "version": "3.10.11"
  }
 },
 "nbformat": 4,
 "nbformat_minor": 5
}
